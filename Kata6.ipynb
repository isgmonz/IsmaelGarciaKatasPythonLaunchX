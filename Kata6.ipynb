{
 "cells": [
  {
   "cell_type": "code",
   "execution_count": 5,
   "metadata": {},
   "outputs": [
    {
     "name": "stdout",
     "output_type": "stream",
     "text": [
      "Hay 8 Planetas\n",
      "Pluto Es el ultimo Planeta\n"
     ]
    }
   ],
   "source": [
    "Planetas = ['Mercurio', 'Venus', 'Tierra', 'marte', 'Jupiter', 'saturno', 'Urano', 'neptuno']\n",
    "\n",
    "print('Hay', len(Planetas), 'Planetas')\n",
    "\n",
    "Planetas.append('Pluto')\n",
    "\n",
    "print(Planetas[-1], 'Es el ultimo Planeta')"
   ]
  },
  {
   "cell_type": "code",
   "execution_count": 7,
   "metadata": {},
   "outputs": [
    {
     "name": "stdout",
     "output_type": "stream",
     "text": [
      "Los planetas antes de Jupiter\n",
      "['Mercurio', 'Venus', 'Tierra', 'Marte']\n",
      "los planetas mas alla de Jupiter\n",
      "['Saturno', 'Urano', 'Neptuno']\n"
     ]
    }
   ],
   "source": [
    "\n",
    "Planetas = ['Mercurio', 'Venus', 'Tierra', 'Marte', 'Jupiter', 'Saturno', 'Urano', 'Neptuno']\n",
    "\n",
    "user_planet = input('Ingresa el nombre del planeta')\n",
    "\n",
    "planet_index = Planetas.index(user_planet)\n",
    "\n",
    "print('Los planetas antes de ' + user_planet)\n",
    "print(Planetas[0:planet_index])\n",
    "\n",
    "print('los planetas mas alla de ' + user_planet)\n",
    "print(Planetas[planet_index + 1:])\n"
   ]
  }
 ],
 "metadata": {
  "interpreter": {
   "hash": "acfef99757b7ab2106cc5ec8a3af79bb76f80ecd4b3d147fb7dd726f89ccc5d4"
  },
  "kernelspec": {
   "display_name": "Python 3.10.1 ('env': venv)",
   "language": "python",
   "name": "python3"
  },
  "language_info": {
   "codemirror_mode": {
    "name": "ipython",
    "version": 3
   },
   "file_extension": ".py",
   "mimetype": "text/x-python",
   "name": "python",
   "nbconvert_exporter": "python",
   "pygments_lexer": "ipython3",
   "version": "3.10.1"
  },
  "orig_nbformat": 4
 },
 "nbformat": 4,
 "nbformat_minor": 2
}
