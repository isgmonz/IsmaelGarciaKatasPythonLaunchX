{
 "cells": [
  {
   "cell_type": "markdown",
   "metadata": {},
   "source": [
    "Ejercicio 1"
   ]
  },
  {
   "cell_type": "code",
   "execution_count": 1,
   "metadata": {},
   "outputs": [
    {
     "name": "stdout",
     "output_type": "stream",
     "text": [
      "Fuel Report:\n",
      "    Total Average: 83.66666666666667%\n",
      "    Main tank: 75%\n",
      "    External tank: 86%\n",
      "    Hydrogen tank: 90% \n",
      "    \n",
      "Fuel Report:\n",
      "    Total Average: 83.0%\n",
      "    Main tank: 96%\n",
      "    External tank: 69%\n",
      "    Hydrogen tank: 84% \n",
      "    \n"
     ]
    }
   ],
   "source": [
    "def generate_report(main_tank, external_tank, hydrogen_tank):\n",
    "    total_average = (main_tank + external_tank + hydrogen_tank) / 3\n",
    "    return f\"\"\"Fuel Report:\n",
    "    Total Average: {total_average}%\n",
    "    Main tank: {main_tank}%\n",
    "    External tank: {external_tank}%\n",
    "    Hydrogen tank: {hydrogen_tank}% \n",
    "    \"\"\"\n",
    "\n",
    "print(generate_report(75, 86, 90))\n",
    "\n",
    "def average(values):\n",
    "    total = sum(values)\n",
    "    number_of_items = len(values)\n",
    "    return total / number_of_items\n",
    "\n",
    "average([85, 60, 90]) \n",
    "\n",
    "\n",
    "def generate_report(main_tank, external_tank, hydrogen_tank):\n",
    "    return f\"\"\"Fuel Report:\n",
    "    Total Average: {average([main_tank, external_tank, hydrogen_tank])}%\n",
    "    Main tank: {main_tank}%\n",
    "    External tank: {external_tank}%\n",
    "    Hydrogen tank: {hydrogen_tank}% \n",
    "    \"\"\"\n",
    "\n",
    "print(generate_report(96, 69, 84))"
   ]
  },
  {
   "cell_type": "markdown",
   "metadata": {},
   "source": [
    "Ejercicio 2"
   ]
  },
  {
   "cell_type": "code",
   "execution_count": 2,
   "metadata": {},
   "outputs": [
    {
     "name": "stdout",
     "output_type": "stream",
     "text": [
      "\n",
      "    Mission to tatooine\n",
      "    Total travel time: 65 Parsec\n",
      "    Total fuel left: 500000 gallons\n",
      "    \n",
      "\n",
      "    Mission to tatooine\n",
      "    Total travel time: 76 Parsec\n",
      "    Total fuel left: 2898000\n",
      "    \n",
      "\n",
      "    Mission to tatooine\n",
      "    Total travel time: 74 Parsec\n",
      "    Total fuel left: 1953000\n",
      "    main tank --> 1720000 gallons left\n",
      "external tank --> 233000 gallons left\n",
      "\n"
     ]
    }
   ],
   "source": [
    "def mission_report(pre_launch_time, flight_time, destination, external_tank, main_tank):\n",
    "    return f\"\"\"\n",
    "    Mission to {destination}\n",
    "    Total travel time: {pre_launch_time + flight_time} Parsec\n",
    "    Total fuel left: {external_tank + main_tank} gallons\n",
    "    \"\"\"\n",
    "\n",
    "print(mission_report(14, 51, \"tatooine\", 200000, 300000))\n",
    "\n",
    "def mission_report(destination, *Parsec, **fuel_reservoirs):\n",
    "    return f\"\"\"\n",
    "    Mission to {destination}\n",
    "    Total travel time: {sum(Parsec)} Parsec\n",
    "    Total fuel left: {sum(fuel_reservoirs.values())}\n",
    "    \"\"\"\n",
    "\n",
    "print(mission_report(\"tatooine\", 10, 15, 51, main=2730000, external=168000))\n",
    "\n",
    "def mission_report(destination, *Parsec, **fuel_reservoirs):\n",
    "    main_report = f\"\"\"\n",
    "    Mission to {destination}\n",
    "    Total travel time: {sum(Parsec)} Parsec\n",
    "    Total fuel left: {sum(fuel_reservoirs.values())}\n",
    "    \"\"\"\n",
    "    for tank_name, gallons in fuel_reservoirs.items():\n",
    "        main_report += f\"{tank_name} tank --> {gallons} gallons left\\n\"\n",
    "    return main_report\n",
    "\n",
    "print(mission_report(\"tatooine\", 8, 11, 55, main=1720000, external=233000))"
   ]
  }
 ],
 "metadata": {
  "interpreter": {
   "hash": "acfef99757b7ab2106cc5ec8a3af79bb76f80ecd4b3d147fb7dd726f89ccc5d4"
  },
  "kernelspec": {
   "display_name": "Python 3.10.1 ('env': venv)",
   "language": "python",
   "name": "python3"
  },
  "language_info": {
   "codemirror_mode": {
    "name": "ipython",
    "version": 3
   },
   "file_extension": ".py",
   "mimetype": "text/x-python",
   "name": "python",
   "nbconvert_exporter": "python",
   "pygments_lexer": "ipython3",
   "version": "3.10.1"
  },
  "orig_nbformat": 4
 },
 "nbformat": 4,
 "nbformat_minor": 2
}
